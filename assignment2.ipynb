{
  "nbformat": 4,
  "nbformat_minor": 0,
  "metadata": {
    "colab": {
      "name": "Untitled0.ipynb",
      "provenance": []
    },
    "kernelspec": {
      "name": "python3",
      "display_name": "Python 3"
    },
    "language_info": {
      "name": "python"
    }
  },
  "cells": [
    {
      "cell_type": "code",
      "execution_count": 8,
      "metadata": {
        "colab": {
          "base_uri": "https://localhost:8080/",
          "height": 0
        },
        "id": "UWZIe9KXzqfy",
        "outputId": "1955decc-9b03-46a0-b905-529b558525ec"
      },
      "outputs": [
        {
          "output_type": "stream",
          "name": "stdout",
          "text": [
            "35\n",
            "egaugnal evitisnes esac a si nohtyP\n",
            "a case sensitive\n",
            "Python is object oriented language\n",
            "10\n",
            "Pythonisacasesensitivelanguage\n"
          ]
        }
      ],
      "source": [
        "#Q1\n",
        "given_line= \"Python is a case sensitive language\"\n",
        "#1a\n",
        "print(len(given_line))\n",
        "#1b\n",
        "print(given_line[::-1])\n",
        "#1c\n",
        "print(given_line[10:26])\n",
        "#1d\n",
        "print(given_line.replace(\"a case sensitive\",\"object oriented\"))\n",
        "#1e\n",
        "print(given_line.find(\"a\"))\n",
        "#1f\n",
        "print(given_line.replace(\" \",\"\"))\n"
      ]
    },
    {
      "cell_type": "code",
      "source": [
        "#Q2\n",
        "name=\"Harshit Aggarwal\"\n",
        "branch=\"MECHANICAL\"\n",
        "cg=\"9\"\n",
        "sid=7019\n",
        "print(\"Hey, {t} here! \\nMy SID is 2110{sid}\\nI am from {dept} department and my CGPA is {cg}\".format(t=name,sid=sid,dept=branch,cg=cg) )\n"
      ],
      "metadata": {
        "colab": {
          "base_uri": "https://localhost:8080/",
          "height": 0
        },
        "id": "KMRRLTSF0FRu",
        "outputId": "a3e6f161-e45e-4cfd-a810-73cc925a9200"
      },
      "execution_count": 9,
      "outputs": [
        {
          "output_type": "stream",
          "name": "stdout",
          "text": [
            "Hey, Harshit Aggarwal here! \n",
            "My SID is 21107019\n",
            "I am from MECHANICAL department and my CGPA is 9\n"
          ]
        }
      ]
    },
    {
      "cell_type": "code",
      "source": [
        "#Q3\n",
        "a=56\n",
        "b=10\n",
        "#3a\n",
        "print(a&b)\n",
        "#3b\n",
        "print(a|b)\n",
        "#3c\n",
        "print(a^b)\n",
        "#3d\n",
        "print(a<<2)\n",
        "print(b<<2)\n",
        "#3e\n",
        "print(a>>2)\n",
        "print(b>>4)"
      ],
      "metadata": {
        "colab": {
          "base_uri": "https://localhost:8080/",
          "height": 0
        },
        "id": "6v4ZLTiY1T48",
        "outputId": "5f0230e5-c117-48da-a60b-9b3b21632002"
      },
      "execution_count": 10,
      "outputs": [
        {
          "output_type": "stream",
          "name": "stdout",
          "text": [
            "8\n",
            "58\n",
            "50\n",
            "224\n",
            "40\n",
            "14\n",
            "0\n"
          ]
        }
      ]
    },
    {
      "cell_type": "code",
      "source": [
        "#q4\n",
        "string_input=input(\"give me a statment:\")\n",
        "c=str('name'in string_input)\n",
        "c=c.replace(\"True\",\"yes\")\n",
        "c=c.replace(\"False\",\"no\")\n",
        "print(c)"
      ],
      "metadata": {
        "colab": {
          "base_uri": "https://localhost:8080/",
          "height": 0
        },
        "id": "AVORSrly2xPc",
        "outputId": "fde5e330-d777-4278-832e-00937e681cc1"
      },
      "execution_count": 11,
      "outputs": [
        {
          "output_type": "stream",
          "name": "stdout",
          "text": [
            "give me a statment:blah\n",
            "no\n"
          ]
        }
      ]
    },
    {
      "cell_type": "code",
      "source": [
        "#q5\n",
        "length_1=float(input(\"triangle side 1 :\"))\n",
        "length_2=float(input(\"triangle side 2 :\"))\n",
        "length_3=float(input(\"triangle side 3 :\"))\n",
        "e=length_1<length_2+length_3\n",
        "f=length_2<length_3+length_1\n",
        "g=length_3<length_1+length_2\n",
        "answer=str(e & f & g)\n",
        "answer=answer.replace(\"True\",\"Yes\")\n",
        "answer=answer.replace(\"False\",\"No\")\n",
        "print(answer)"
      ],
      "metadata": {
        "colab": {
          "base_uri": "https://localhost:8080/",
          "height": 0
        },
        "id": "A7mnp8QW4l5g",
        "outputId": "7c29e6ae-112b-4ae1-bd55-a74b0e16b54c"
      },
      "execution_count": 12,
      "outputs": [
        {
          "output_type": "stream",
          "name": "stdout",
          "text": [
            "triangle side 1 :3\n",
            "triangle side 2 :4\n",
            "triangle side 3 :5\n",
            "Yes\n"
          ]
        }
      ]
    },
    {
      "cell_type": "code",
      "source": [
        "#q6\n",
        "a=int(input(\"enter number 1:\"))\n",
        "b=int(input(\"enter number 2:\"))\n",
        "c=bin(a^b)\n",
        "print(c.count(\"1\"))"
      ],
      "metadata": {
        "colab": {
          "base_uri": "https://localhost:8080/",
          "height": 0
        },
        "id": "qtV2LntO5I6O",
        "outputId": "e9b9ddb8-0f0c-45c8-fdbb-9dc5e04b35b4"
      },
      "execution_count": 13,
      "outputs": [
        {
          "output_type": "stream",
          "name": "stdout",
          "text": [
            "enter number 1:10\n",
            "enter number 2:12\n",
            "2\n"
          ]
        }
      ]
    }
  ]
}
