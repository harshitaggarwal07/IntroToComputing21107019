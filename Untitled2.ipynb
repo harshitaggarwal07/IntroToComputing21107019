{
  "nbformat": 4,
  "nbformat_minor": 0,
  "metadata": {
    "colab": {
      "name": "Untitled2.ipynb",
      "provenance": []
    },
    "kernelspec": {
      "name": "python3",
      "display_name": "Python 3"
    },
    "language_info": {
      "name": "python"
    }
  },
  "cells": [
    {
      "cell_type": "code",
      "execution_count": 26,
      "metadata": {
        "colab": {
          "base_uri": "https://localhost:8080/"
        },
        "id": "PeBS3vnucBMs",
        "outputId": "86a8d34a-d639-417b-f1ec-ebc0f0331a72"
      },
      "outputs": [
        {
          "output_type": "stream",
          "name": "stdout",
          "text": [
            "Enter number to be converted to binary: 33\n",
            "0b100001\n"
          ]
        }
      ],
      "source": [
        "#1\n",
        "number1 = int(input(\"Enter number to be converted to binary: \"))\n",
        "print(bin(number1))\n"
      ]
    },
    {
      "cell_type": "code",
      "source": [
        "#2\n",
        "expression = input(\"Enter the expression \")\n",
        "print(eval(expression))"
      ],
      "metadata": {
        "colab": {
          "base_uri": "https://localhost:8080/"
        },
        "id": "ijpyYfawc1K0",
        "outputId": "2b6f457f-7d92-49e9-e021-627f3693d055"
      },
      "execution_count": 27,
      "outputs": [
        {
          "output_type": "stream",
          "name": "stdout",
          "text": [
            "Enter the expression 3**4+4*4\n",
            "97\n"
          ]
        }
      ]
    },
    {
      "cell_type": "code",
      "source": [
        "#3a\n",
        "print(\"(3+4)(5) = \",(3+4)*5)"
      ],
      "metadata": {
        "colab": {
          "base_uri": "https://localhost:8080/"
        },
        "id": "03F7JW5nc5H6",
        "outputId": "4d13100e-1c06-4504-8c9c-00bd986edb8e"
      },
      "execution_count": 28,
      "outputs": [
        {
          "output_type": "stream",
          "name": "stdout",
          "text": [
            "(3+4)(5) =  35\n"
          ]
        }
      ]
    },
    {
      "cell_type": "code",
      "source": [
        "\n",
        "#3b\n",
        "n=float(input(\"give me n:\"))\n",
        "print(\"n(n-1)/2=\",n*(n-1)/2)"
      ],
      "metadata": {
        "colab": {
          "base_uri": "https://localhost:8080/"
        },
        "id": "am2JQxI9dCA8",
        "outputId": "96cfca3c-ce66-4085-9fe0-c86d37df4bee"
      },
      "execution_count": 29,
      "outputs": [
        {
          "output_type": "stream",
          "name": "stdout",
          "text": [
            "give me n:4\n",
            "n(n-1)/2= 6.0\n"
          ]
        }
      ]
    },
    {
      "cell_type": "code",
      "source": [
        "#3c\n",
        "import math\n",
        "r=float(input(\"give me r:\"))\n",
        "print(\"4πr^2=\", 4*math.pi*r**2)"
      ],
      "metadata": {
        "colab": {
          "base_uri": "https://localhost:8080/"
        },
        "id": "rWBof_GkdHtP",
        "outputId": "af0e175d-9173-469a-de42-8c3a71c26e26"
      },
      "execution_count": 30,
      "outputs": [
        {
          "output_type": "stream",
          "name": "stdout",
          "text": [
            "give me r:5\n",
            "4πr^2= 314.1592653589793\n"
          ]
        }
      ]
    },
    {
      "cell_type": "code",
      "source": [
        "#3d\n",
        "import math\n",
        "a=int(input(\"value of a:\"))\n",
        "b=int(input(\"value of b:\"))\n",
        "r=int(input(\"non negative value of r:\"))\n",
        "print(\"sqrt(r(cosa)^2 + r(sinb)^2) = \",math.sqrt((r*math.cos(a)**2) + (r*math.sin(b)**2)))"
      ],
      "metadata": {
        "colab": {
          "base_uri": "https://localhost:8080/"
        },
        "id": "GKR-oDyndK91",
        "outputId": "a405f18c-c172-4a01-b120-56829ba2a0a4"
      },
      "execution_count": 31,
      "outputs": [
        {
          "output_type": "stream",
          "name": "stdout",
          "text": [
            "value of a:3\n",
            "value of b:4\n",
            "non negative value of r:3\n",
            "sqrt(r(cosa)^2 + r(sinb)^2) =  2.1583571253822824\n"
          ]
        }
      ]
    },
    {
      "cell_type": "code",
      "source": [
        "#3e\n",
        "x1 = float(input('Enter x coordinate of first point:'))\n",
        "y1 = float(input('Enter y coordinate of first point:'))\n",
        "x2 = float(input('Enter x coordinate of second point:'))\n",
        "y2 = float(input('Enter y coordinate of second point:'))\n",
        "\n",
        "if x2 == x1:\n",
        "    print(\"not defined1\")\n",
        "else: \n",
        "    print(\"y2-y1/x2-x1 = \", (y2 - y1)/(x2 - x1))"
      ],
      "metadata": {
        "colab": {
          "base_uri": "https://localhost:8080/"
        },
        "id": "2_2GHrwadVWe",
        "outputId": "d1fdd612-23f4-4360-eff4-712e749418a4"
      },
      "execution_count": 33,
      "outputs": [
        {
          "output_type": "stream",
          "name": "stdout",
          "text": [
            "Enter x coordinate of first point:3\n",
            "Enter y coordinate of first point:4\n",
            "Enter x coordinate of second point:5\n",
            "Enter y coordinate of second point:6\n",
            "y2-y1/x2-x1 =  1.0\n"
          ]
        }
      ]
    },
    {
      "cell_type": "code",
      "source": [
        "#4\n",
        "print(\"range(5)\")\n",
        "for x in range(5):\n",
        "    print(x)\n",
        "\n",
        "print(\"range(3, 10)\")\n",
        "for x in range(3, 10):\n",
        "    print(x) \n",
        "\n",
        "print(\"range(4 ,13, 3)\")\n",
        "for x in range(4 ,13, 3):\n",
        "    print(x) \n",
        "\n",
        "print(\"range(15, 5, -2)\")\n",
        "for x in range(15, 5, -2):\n",
        "    print(x) \n",
        "\n",
        "print(\"range(5, 3)\")\n",
        "for x in range(5, 3):\n",
        "    print(x) "
      ],
      "metadata": {
        "colab": {
          "base_uri": "https://localhost:8080/"
        },
        "id": "QWmV6YRFdeyE",
        "outputId": "0610d918-5840-4534-b478-4e4ddddd8f4c"
      },
      "execution_count": 34,
      "outputs": [
        {
          "output_type": "stream",
          "name": "stdout",
          "text": [
            "range(5)\n",
            "0\n",
            "1\n",
            "2\n",
            "3\n",
            "4\n",
            "range(3, 10)\n",
            "3\n",
            "4\n",
            "5\n",
            "6\n",
            "7\n",
            "8\n",
            "9\n",
            "range(4 ,13, 3)\n",
            "4\n",
            "7\n",
            "10\n",
            "range(15, 5, -2)\n",
            "15\n",
            "13\n",
            "11\n",
            "9\n",
            "7\n",
            "range(5, 3)\n"
          ]
        }
      ]
    },
    {
      "cell_type": "code",
      "source": [
        "#5\n",
        "hydrogen=int(input(\"number of hydrogen atoms:\"))\n",
        "oxygen=int(input(\"number of oxygen atoms:\"))\n",
        "carbon=int(input(\"number of carbon atoms:\"))\n",
        "print(\"molecular weight:\",hydrogen*1.00794+carbon*12.0107+oxygen*15.9994)"
      ],
      "metadata": {
        "colab": {
          "base_uri": "https://localhost:8080/"
        },
        "id": "2cMo9xEzfjpI",
        "outputId": "73feb9d8-bb4a-43e6-c522-987d7b2dbde3"
      },
      "execution_count": 35,
      "outputs": [
        {
          "output_type": "stream",
          "name": "stdout",
          "text": [
            "number of hydrogen atoms:33\n",
            "number of oxygen atoms:44\n",
            "number of carbon atoms:55\n",
            "molecular weight: 1397.82412\n"
          ]
        }
      ]
    }
  ]
}