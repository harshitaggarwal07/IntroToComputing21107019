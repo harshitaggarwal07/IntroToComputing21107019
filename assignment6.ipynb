{
  "nbformat": 4,
  "nbformat_minor": 0,
  "metadata": {
    "colab": {
      "name": "Untitled6.ipynb",
      "provenance": []
    },
    "kernelspec": {
      "name": "python3",
      "display_name": "Python 3"
    },
    "language_info": {
      "name": "python"
    }
  },
  "cells": [
    {
      "cell_type": "code",
      "execution_count": null,
      "metadata": {
        "colab": {
          "base_uri": "https://localhost:8080/"
        },
        "id": "Xl2nzGVq6_9G",
        "outputId": "a6b51cb2-fc79-4b9f-b3d8-929806b43b64"
      },
      "outputs": [
        {
          "output_type": "stream",
          "name": "stdout",
          "text": [
            "Enter any number: 28\n",
            "The number is a Perfect number!\n"
          ]
        }
      ],
      "source": [
        "#q1\n",
        "n = int(input(\"Enter any number: \"))\n",
        "sum1 = 0\n",
        "for i in range(1, n):\n",
        "    if(n % i == 0):#find different divisors of number\n",
        "        sum1 = sum1 + i#add all the divisors\n",
        "if (sum1 == n):#check if sum of divisor is equal to the number \n",
        "    print(\"The number is a Perfect number!\")\n",
        "else:\n",
        "    print(\"The number is not a Perfect number!\")"
      ]
    },
    {
      "cell_type": "code",
      "source": [
        "#q2\n",
        "def isPalindrome(s):\n",
        "    return s==s[::-1]#check if string is equal to its reverse\n",
        "string=input(\"enter a string: \\n\")\n",
        "s=string.lower().replace(\" \",\"\")#remove spaces and make all letters small\n",
        "if isPalindrome(s):\n",
        "    print (s,\"is a palindrome\")\n",
        "else: print(s,\"is not a palindrome\")"
      ],
      "metadata": {
        "colab": {
          "base_uri": "https://localhost:8080/"
        },
        "id": "Tkcq1GUBBMxS",
        "outputId": "99c1a390-45de-4fd7-c6df-75fac71e9911"
      },
      "execution_count": null,
      "outputs": [
        {
          "output_type": "stream",
          "name": "stdout",
          "text": [
            "enter a string: \n",
            "nurses run\n",
            "nursesrun is a palindrome\n"
          ]
        }
      ]
    },
    {
      "cell_type": "code",
      "source": [
        "#q3\n",
        "from math import factorial\n",
        "n=int(input(\"enter number of rows:\\n\"))\n",
        "for i in range(n):\n",
        "    for j in range(n-1-i):\n",
        "        print(\" \", end=\"\")\n",
        "    for k in range (i+1):\n",
        "        print(factorial(i) // (factorial(i-k)*factorial(k)) , end=\" \") # nCr = n! / ((n-r)! * r!)\n",
        "    print()"
      ],
      "metadata": {
        "colab": {
          "base_uri": "https://localhost:8080/"
        },
        "id": "GxUXkS7xBsco",
        "outputId": "71c505b9-9b2f-4d67-8823-13fd24c58e47"
      },
      "execution_count": null,
      "outputs": [
        {
          "output_type": "stream",
          "name": "stdout",
          "text": [
            "enter number of rows:\n",
            "8\n",
            "       1 \n",
            "      1 1 \n",
            "     1 2 1 \n",
            "    1 3 3 1 \n",
            "   1 4 6 4 1 \n",
            "  1 5 10 10 5 1 \n",
            " 1 6 15 20 15 6 1 \n",
            "1 7 21 35 35 21 7 1 \n"
          ]
        }
      ]
    },
    {
      "cell_type": "code",
      "source": [
        "#q4\n",
        "import string, sys\n",
        "def ispangram(str1, alphabet=string.ascii_lowercase):\n",
        "    alphaset = set(alphabet)#set of 26 letters\n",
        "    return alphaset <= set(str1.lower())# to check if string contains all the letters of the alphabet\n",
        "input_string=input(\"enter the string to check for pangram:\\n\")\n",
        "str1=input_string\n",
        "if ispangram(str1):\n",
        "  print(str1,\"is a pangram\")\n",
        "else: print(str1,\"is not a pangram\") "
      ],
      "metadata": {
        "colab": {
          "base_uri": "https://localhost:8080/"
        },
        "id": "nRJGgm_XEFMg",
        "outputId": "5e7042e2-9224-4580-abf0-ee8e827b47d5"
      },
      "execution_count": null,
      "outputs": [
        {
          "output_type": "stream",
          "name": "stdout",
          "text": [
            "enter the string to check for pangram:\n",
            "The quick brown fox jumps over the lazy dog\n",
            "The quick brown fox jumps over the lazy dog is a pangram\n"
          ]
        }
      ]
    },
    {
      "cell_type": "code",
      "source": [
        "#q5\n",
        "items=[n for n in input().split('-')]\n",
        "items.sort()#arrange alphabetically\n",
        "print('-'.join(items))"
      ],
      "metadata": {
        "colab": {
          "base_uri": "https://localhost:8080/"
        },
        "id": "l1greiMRH1Sn",
        "outputId": "29f5981a-2959-4bc3-889c-20af39cba589"
      },
      "execution_count": null,
      "outputs": [
        {
          "output_type": "stream",
          "name": "stdout",
          "text": [
            "green-red-yellow-black-white\n",
            "black-green-red-white-yellow\n"
          ]
        }
      ]
    },
    {
      "cell_type": "code",
      "source": [
        "#q6\n",
        "def student_data(student_id, **kwargs):\n",
        "    print(f'\\nStudent ID: {student_id}')\n",
        "    if 'student_name' in kwargs:\n",
        "        print(f\"Student Name: {kwargs['student_name']}\") \n",
        "    if 'student_class' in kwargs:\n",
        "            print(f\"Student Class: {kwargs['student_class']}\")\n",
        "student_data(student_id='21107019')#id argument\n",
        "student_data(student_id='21107019', student_name='harshit', student_class ='2nd Semester')#name and class argument added"
      ],
      "metadata": {
        "colab": {
          "base_uri": "https://localhost:8080/"
        },
        "id": "Y_mdLEs7Iiw1",
        "outputId": "b4f98cae-a872-4d2d-bce5-5bc2f2f46d28"
      },
      "execution_count": 81,
      "outputs": [
        {
          "output_type": "stream",
          "name": "stdout",
          "text": [
            "\n",
            "Student ID: 21107019\n",
            "\n",
            "Student ID: 21107019\n",
            "Student Name: harshit\n",
            "Student Class: 2nd Semester\n"
          ]
        }
      ]
    },
    {
      "cell_type": "code",
      "source": [
        "#q7\n",
        "class Student:\n",
        "    pass \n",
        "class Marks:\n",
        "    pass #two classes created\n",
        "student0 = Student()\n",
        "marks0 = Marks()\n",
        "print(isinstance(student0, Student))#instances..\n",
        "print(isinstance(marks0, Student))\n",
        "print(isinstance(marks0, Marks)) \n",
        "print(isinstance(student0, Marks))\n",
        "print(\"Check whether the said classes are subclasses of the built-in object class or not.\")\n",
        "print(issubclass(Student, object))#subclasses\n",
        "print(issubclass(Marks, object))\n",
        "print()"
      ],
      "metadata": {
        "colab": {
          "base_uri": "https://localhost:8080/"
        },
        "id": "HJDEegT2k0Av",
        "outputId": "ace1d775-e1c4-4720-d53e-925305023c5a"
      },
      "execution_count": null,
      "outputs": [
        {
          "output_type": "stream",
          "name": "stdout",
          "text": [
            "True\n",
            "False\n",
            "True\n",
            "False\n",
            "Check whether the said classes are subclasses of the built-in object class or not.\n",
            "True\n",
            "True\n",
            "\n"
          ]
        }
      ]
    },
    {
      "cell_type": "code",
      "source": [
        "#q8\n",
        "list=[]\n",
        "def findTriplets(array, n):\n",
        "    found = False\n",
        "    for i in range(0, n-2):\n",
        "        for j in range(i+1, n-1):\n",
        "            for k in range(j+1, n):\n",
        "                if (array[i] + array[j] + array[k] == 0):#sum zero condition for triplet\n",
        "                    list.append([array[i],array[j],array[k]])#make list of satisfying triplet\n",
        "                    print(list)\n",
        "                    found = True\n",
        "    if (found == False):\n",
        "        print(\" not exist \")\n",
        "array = [-25, -10, -7, -3, 2, 4, 8, 10]\n",
        "n = len(array)\n",
        "findTriplets(array, n)"
      ],
      "metadata": {
        "colab": {
          "base_uri": "https://localhost:8080/"
        },
        "id": "gCR7FK0EMPiM",
        "outputId": "c2b5c8b7-3126-4762-9bd3-7fe4d7187b39"
      },
      "execution_count": null,
      "outputs": [
        {
          "output_type": "stream",
          "name": "stdout",
          "text": [
            "[[-10, 2, 8]]\n",
            "[[-10, 2, 8], [-7, -3, 10]]\n"
          ]
        }
      ]
    },
    {
      "cell_type": "code",
      "source": [
        "#q9\n",
        "def validparent( seq ):  \n",
        "   while True:  \n",
        "       if '()' in seq :  #conditions for valid parenthesis\n",
        "           seq = seq.replace ( '()' , '' )  \n",
        "       elif '{}' in seq :  \n",
        "           seq = seq.replace ( '{}' , '' )  \n",
        "       elif '[]' in seq :  \n",
        "           seq = seq.replace ( '[]' , '' )  \n",
        "       else :  \n",
        "           return not seq  \n",
        "seq = input(\"enter paranthesis to check\\n\")  \n",
        "print(f'Is {seq} valid ? : {validparent(seq)}')  \n"
      ],
      "metadata": {
        "colab": {
          "base_uri": "https://localhost:8080/"
        },
        "id": "KAo8r6dwR969",
        "outputId": "939e7dfd-7cce-4076-e719-959bd8d909be"
      },
      "execution_count": null,
      "outputs": [
        {
          "output_type": "stream",
          "name": "stdout",
          "text": [
            "enter paranthesis to check\n",
            "{}[]()\n",
            "Is {}[]() valid ? : True\n"
          ]
        }
      ]
    }
  ]
}