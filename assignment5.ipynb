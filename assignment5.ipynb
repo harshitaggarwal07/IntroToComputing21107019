{
  "nbformat": 4,
  "nbformat_minor": 0,
  "metadata": {
    "colab": {
      "name": "Untitled4.ipynb",
      "provenance": []
    },
    "kernelspec": {
      "name": "python3",
      "display_name": "Python 3"
    },
    "language_info": {
      "name": "python"
    }
  },
  "cells": [
    {
      "cell_type": "code",
      "execution_count": 2,
      "metadata": {
        "id": "SkUbypYQkNdD",
        "colab": {
          "base_uri": "https://localhost:8080/"
        },
        "outputId": "74468c53-ba04-45ee-e04a-8e7b38903535"
      },
      "outputs": [
        {
          "output_type": "stream",
          "name": "stdout",
          "text": [
            "Enter string here :happy\n",
            "yppah\n"
          ]
        }
      ],
      "source": [
        "#q1\n",
        "inputstring=input(\"Enter string here\\n\")\n",
        "#Creating empty string\n",
        "revstring=\"\"\n",
        "#Every element from inputstring is added from left side to ride side\n",
        "for i in inputstring:\n",
        "    revstring=i+revstring\n",
        "print(revstring) "
      ]
    },
    {
      "cell_type": "code",
      "source": [
        "#q2\n",
        "dividents_lower=int(input(\"please enter lower limit of numbers to be divided\\n\"))\n",
        "dividents_higher=int(input(\"please enter higher limit of numbers to be divided\\n\"))\n",
        "divisor=int(input(\"enter the number which divides\\n\"))\n",
        "print(\"Following numbers are divisible by the given number\")\n",
        "for n in range(dividents_lower,dividents_higher+1):\n",
        "    if n%divisor==0:\n",
        "        print(n)"
      ],
      "metadata": {
        "id": "ED3TaLHmkPGb",
        "colab": {
          "base_uri": "https://localhost:8080/"
        },
        "outputId": "7e50414a-9d75-4ff5-e9da-dad19a59e9c6"
      },
      "execution_count": 5,
      "outputs": [
        {
          "output_type": "stream",
          "name": "stdout",
          "text": [
            "please enter lower limit of numbers to be divided\n",
            "1\n",
            "please enter higher limit of numbers to be divided\n",
            "100\n",
            "enter the number which divides\n",
            "5\n",
            "Following numbers are divisible by the given number\n",
            "5\n",
            "10\n",
            "15\n",
            "20\n",
            "25\n",
            "30\n",
            "35\n",
            "40\n",
            "45\n",
            "50\n",
            "55\n",
            "60\n",
            "65\n",
            "70\n",
            "75\n",
            "80\n",
            "85\n",
            "90\n",
            "95\n",
            "100\n"
          ]
        }
      ]
    },
    {
      "cell_type": "code",
      "source": [
        "#q3\n",
        "import math \n",
        "side1=float(input(\"enter side of the triange\"))\n",
        "side3=float(input(\"enter side of the triange\"))\n",
        "side2=float(input(\"enter side of the triange\"))\n",
        "s=(side1+side2+side3)/2\n",
        "if side1<side2+side3 and side2<side1+side3 and side3<side2+side1:\n",
        "    print(\"area triange is \", math.sqrt(s*(s-side1)*(s-side2)*(s-side3)))\n",
        "else :\n",
        "    print(\"triange not possible\")"
      ],
      "metadata": {
        "id": "saPUH5ExoCYb"
      },
      "execution_count": null,
      "outputs": []
    },
    {
      "cell_type": "code",
      "source": [
        "#q4\n",
        "n=5\n",
        "#loop\n",
        "for i in range(n):\n",
        "    #nested loop\n",
        "\t    for j in range(i):\n",
        "\t        print ('*', end=\" \")\n",
        "\t    print('')\n",
        "\t#different step nested loop\n",
        "for i in range(n,0,-1):\n",
        "\t    for j in range(i):\n",
        "\t        print('*', end=\" \")\n",
        "\t    print('')"
      ],
      "metadata": {
        "id": "rIP2hfuJoDGz",
        "colab": {
          "base_uri": "https://localhost:8080/"
        },
        "outputId": "c1a53435-e2f1-4c88-e837-bb7800d9f921"
      },
      "execution_count": 7,
      "outputs": [
        {
          "output_type": "stream",
          "name": "stdout",
          "text": [
            "\n",
            "* \n",
            "* * \n",
            "* * * \n",
            "* * * * \n",
            "* * * * * \n",
            "* * * * \n",
            "* * * \n",
            "* * \n",
            "* \n"
          ]
        }
      ]
    },
    {
      "cell_type": "code",
      "source": [
        "#q5\n",
        "a1='ABCDEFGHIJKLMNOPQRSTUVWXYZ'\n",
        "a=a1\n",
        "n= int(input(\"enter the number of rows: \"))\n",
        "for i in range(1,n+1):\n",
        "    if len(a)<i:\n",
        "        a=a+a1\n",
        "    for j in range(0,i):\n",
        "        print(a[j], end='')\n",
        "        \n",
        "    print()\n",
        "    \n",
        "    a=a[i:]"
      ],
      "metadata": {
        "id": "OoIoIwyFrgjA",
        "colab": {
          "base_uri": "https://localhost:8080/"
        },
        "outputId": "291cacf8-0d70-46eb-fda3-c40902a7d565"
      },
      "execution_count": 16,
      "outputs": [
        {
          "output_type": "stream",
          "name": "stdout",
          "text": [
            "enter the number of rows: 11\n",
            "A\n",
            "BC\n",
            "DEF\n",
            "GHIJ\n",
            "KLMNO\n",
            "PQRSTU\n",
            "VWXYZAB\n",
            "CDEFGHIJ\n",
            "KLMNOPQRS\n",
            "TUVWXYZABC\n",
            "DEFGHIJKLMN\n"
          ]
        }
      ]
    },
    {
      "cell_type": "code",
      "source": [
        "#q6\n",
        "#input range\n",
        "lowlimit=int(input(\"Insert lowlimit limit for range: \"))\n",
        "upperlimit=int(input(\"Insert upperlimit limit for range: \"))\n",
        "print(\"Prime numbers between\", lowlimit, \"and\", upperlimit, \"are:\")\n",
        "for num in range(lowlimit, upperlimit + 1):\n",
        "   # all prime numbers are greater than 1\n",
        "   if num > 1:\n",
        "       for i in range(2, num):\n",
        "           if (num % i) == 0:\n",
        "               break\n",
        "       else:\n",
        "           print(num)"
      ],
      "metadata": {
        "colab": {
          "base_uri": "https://localhost:8080/"
        },
        "id": "ZohyepNEjXSD",
        "outputId": "5fa38341-fd90-4029-c491-d2f18d5e9aaa"
      },
      "execution_count": 11,
      "outputs": [
        {
          "output_type": "stream",
          "name": "stdout",
          "text": [
            "Insert lowlimit limit for range: 1\n",
            "Insert upperlimit limit for range: 100\n",
            "Prime numbers between 1 and 100 are:\n",
            "2\n",
            "3\n",
            "5\n",
            "7\n",
            "11\n",
            "13\n",
            "17\n",
            "19\n",
            "23\n",
            "29\n",
            "31\n",
            "37\n",
            "41\n",
            "43\n",
            "47\n",
            "53\n",
            "59\n",
            "61\n",
            "67\n",
            "71\n",
            "73\n",
            "79\n",
            "83\n",
            "89\n",
            "97\n"
          ]
        }
      ]
    },
    {
      "cell_type": "code",
      "source": [
        "#q7\n",
        "print(\"the numbers between 1 and 500 which are multiple of 7 and divisible by 11\")\n",
        "for i in range(1,501):\n",
        "    if i%7==0 and i%11==0:#Checking multiples if 7 and divisibility by 11\n",
        "        print(i)\n",
        "    else:\n",
        "        continue"
      ],
      "metadata": {
        "colab": {
          "base_uri": "https://localhost:8080/"
        },
        "id": "uHDKzA3Jj3ns",
        "outputId": "3fd3aa8a-e0b5-4b1e-fbd6-e413166ba086"
      },
      "execution_count": 12,
      "outputs": [
        {
          "output_type": "stream",
          "name": "stdout",
          "text": [
            "the numbers between 1 and 500 which are multiple of 7 and divisible by 11\n",
            "77\n",
            "154\n",
            "231\n",
            "308\n",
            "385\n",
            "462\n"
          ]
        }
      ]
    },
    {
      "cell_type": "code",
      "source": [
        "#q8\n",
        "a=[0,0,0,0,0,0,0,0,0,0]\n",
        "i=0\n",
        "while i<10:\n",
        "    a[i]= int(input(\"Enter the number: \"))\n",
        "    i=i+1\n",
        "print('The positive number out of the entered nos. are: ')\n",
        "for i in a:\n",
        "    if(i>0):\n",
        "        print(i)\n",
        "print('The negative number out the nos. are: ')\n",
        "for i in a:\n",
        "    if(i<0):\n",
        "        print(i)\n",
        "print('even no out of the entered nos: ')\n",
        "for i in a:\n",
        "    if(i%2==0):\n",
        "        print(i)\n",
        "print('odd no out of the entered nos: ')\n",
        "for i in a:\n",
        "    if(not(i%2==0)):\n",
        "        print(i)\n",
        "print('Frequecy of respective nos are: ')\n",
        "for i in a:\n",
        "    if(type(i)==float):# so no repetition occurs\n",
        "        continue\n",
        "    n=0\n",
        "    j=0\n",
        "    while j<10:\n",
        "        if(a[j]==i):\n",
        "            n=n+1\n",
        "            a[j]=1.1# an decimal no which would be used afterwards to distinguish it from others\n",
        "        j=j+1\n",
        "    print('Frequency of ',i,'is :',n)"
      ],
      "metadata": {
        "colab": {
          "base_uri": "https://localhost:8080/"
        },
        "id": "AilPXzozlyjC",
        "outputId": "2021376b-078d-4494-adee-eedd658c3fd6"
      },
      "execution_count": 13,
      "outputs": [
        {
          "output_type": "stream",
          "name": "stdout",
          "text": [
            "Enter the number: 1\n",
            "Enter the number: 2\n",
            "Enter the number: 3\n",
            "Enter the number: 4\n",
            "Enter the number: -5\n",
            "Enter the number: -5\n",
            "Enter the number: 7\n",
            "Enter the number: 8\n",
            "Enter the number: 9\n",
            "Enter the number: 66\n",
            "The positive number out of the entered nos. are: \n",
            "1\n",
            "2\n",
            "3\n",
            "4\n",
            "7\n",
            "8\n",
            "9\n",
            "66\n",
            "The negative number out the nos. are: \n",
            "-5\n",
            "-5\n",
            "even no out of the entered nos: \n",
            "2\n",
            "4\n",
            "8\n",
            "66\n",
            "odd no out of the entered nos: \n",
            "1\n",
            "3\n",
            "-5\n",
            "-5\n",
            "7\n",
            "9\n",
            "Frequecy of respective nos are: \n",
            "Frequency of  1 is : 1\n",
            "Frequency of  2 is : 1\n",
            "Frequency of  3 is : 1\n",
            "Frequency of  4 is : 1\n",
            "Frequency of  -5 is : 2\n",
            "Frequency of  7 is : 1\n",
            "Frequency of  8 is : 1\n",
            "Frequency of  9 is : 1\n",
            "Frequency of  66 is : 1\n"
          ]
        }
      ]
    },
    {
      "cell_type": "code",
      "source": [
        "#q9\n",
        "#Creating empty list\n",
        "Testlist=[]\n",
        "#Taking 10 inputs from user and then adding them to list\n",
        "for i in range(10):\n",
        "    Testlist.append(input(\"Enter word: \"))\n",
        "print(Testlist)\n",
        "#Converting list to dictionary and then using count \n",
        "print(\"count of each word in the list\")\n",
        "Testdic={word:Testlist.count(word) for word in Testlist}\n",
        "\n",
        "print(Testdic)"
      ],
      "metadata": {
        "colab": {
          "base_uri": "https://localhost:8080/"
        },
        "id": "Pv_QBEXgl8NP",
        "outputId": "03f3111f-5c45-4a87-f058-ff43b6d25f7a"
      },
      "execution_count": 15,
      "outputs": [
        {
          "output_type": "stream",
          "name": "stdout",
          "text": [
            "Enter word: apple\n",
            "Enter word: apple\n",
            "Enter word: apple\n",
            "Enter word: apple\n",
            "Enter word: apple\n",
            "Enter word: mango\n",
            "Enter word: mango\n",
            "Enter word: mango\n",
            "Enter word: mango\n",
            "Enter word: mango\n",
            "['apple', 'apple', 'apple', 'apple', 'apple', 'mango', 'mango', 'mango', 'mango', 'mango']\n",
            "count of each word in the list\n",
            "{'apple': 5, 'mango': 5}\n"
          ]
        }
      ]
    }
  ]
}