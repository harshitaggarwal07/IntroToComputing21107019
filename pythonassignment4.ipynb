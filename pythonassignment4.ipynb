{
  "nbformat": 4,
  "nbformat_minor": 0,
  "metadata": {
    "colab": {
      "name": "Copy of Untitled3.ipynb",
      "provenance": []
    },
    "kernelspec": {
      "name": "python3",
      "display_name": "Python 3"
    },
    "language_info": {
      "name": "python"
    }
  },
  "cells": [
    {
      "cell_type": "code",
      "execution_count": 4,
      "metadata": {
        "id": "0DS1QzYQXtKM",
        "colab": {
          "base_uri": "https://localhost:8080/"
        },
        "outputId": "b96fee6f-9eb3-4eea-f381-e4c47d4f410d"
      },
      "outputs": [
        {
          "output_type": "stream",
          "name": "stdout",
          "text": [
            "enter marks out of 100:33\n",
            " Grade E\n"
          ]
        }
      ],
      "source": [
        "marks=float(input(\"enter marks out of 100:\"))\n",
        "if(marks<25):\n",
        "    print(\" Grade F\")\n",
        "elif(marks>=25 and marks<45):\n",
        "    print(\" Grade E\")\n",
        "elif(marks>=45 and marks<50):\n",
        "    print(\" Grade D\")\n",
        "elif(marks>=50 and marks<60):\n",
        "    print(\" Grade C\")\n",
        "elif(marks>=60 and marks<80):\n",
        "    print(\" Grade B\")\n",
        "elif(marks>=80 and marks<100):\n",
        "    print(\" Grade A\")\n",
        "else:\n",
        "    print(\"Error: entered number of marks incorrect\")\n",
        "    \n",
        "    "
      ]
    },
    {
      "cell_type": "code",
      "source": [
        "year = int(input(\"Enter year: \"))\n",
        "\n",
        "if year % 400 == 0 :\n",
        "    print(year, \"is a Leap Year\")\n",
        "elif year % 100 == 0 :\n",
        "    print(year, \"is not a Leap Year\")\n",
        "elif year % 4 == 0 :\n",
        "    print(year, \"is a Leap Year\")\n",
        "    22\n",
        "else :\n",
        "    print(year, \"is not a Leap Year\")"
      ],
      "metadata": {
        "id": "vhOJYNMoX_zD",
        "colab": {
          "base_uri": "https://localhost:8080/"
        },
        "outputId": "88de36e7-d7f1-4d91-8560-61737180518f"
      },
      "execution_count": 5,
      "outputs": [
        {
          "output_type": "stream",
          "name": "stdout",
          "text": [
            "Enter year: 2400\n",
            "2400 is a Leap Year\n"
          ]
        }
      ]
    },
    {
      "cell_type": "code",
      "source": [
        "import random\n",
        "marks=0\n",
        "for i in range(1,11):\n",
        "    No1 = random.randint(0, 15)\n",
        "    No2 = random.randint(0, 20)\n",
        "    ans = int(input(f'Question {i}:{No1}x{No2}='))\n",
        "    if ans == No1*No2:\n",
        "        print('Right!')\n",
        "        marks=marks+1\n",
        "    else:\n",
        "        print('Better luck next time! The correct answer is', No1*No2)\n",
        "print('You scored {}/{}'.format(marks,10))   "
      ],
      "metadata": {
        "id": "Coo7vQlmZtun",
        "colab": {
          "base_uri": "https://localhost:8080/"
        },
        "outputId": "86c8c438-c7a2-4b98-9972-98d62128f2b9"
      },
      "execution_count": 6,
      "outputs": [
        {
          "output_type": "stream",
          "name": "stdout",
          "text": [
            "Question 1:9x17=51\n",
            "Better luck next time! The correct answer is 153\n",
            "Question 2:8x3=24\n",
            "Right!\n",
            "Question 3:13x3=39\n",
            "Right!\n",
            "Question 4:9x5=45\n",
            "Right!\n",
            "Question 5:8x14=54\n",
            "Better luck next time! The correct answer is 112\n",
            "Question 6:3x14=42\n",
            "Right!\n",
            "Question 7:6x16=96\n",
            "Right!\n",
            "Question 8:11x19=33\n",
            "Better luck next time! The correct answer is 209\n",
            "Question 9:6x1=6\n",
            "Right!\n",
            "Question 10:15x6=90\n",
            "Right!\n",
            "You scored 7/10\n"
          ]
        }
      ]
    },
    {
      "cell_type": "code",
      "source": [
        "for candy in range(200):\n",
        "    if candy % 5 == 2 and candy % 6 == 3 and candy % 7 == 2:\n",
        "        print(\"Number of candies are:\",candy)"
      ],
      "metadata": {
        "id": "xRewS5w7ky7K",
        "colab": {
          "base_uri": "https://localhost:8080/"
        },
        "outputId": "e62432d6-df4c-4cdf-c184-474d9840ad8c"
      },
      "execution_count": 7,
      "outputs": [
        {
          "output_type": "stream",
          "name": "stdout",
          "text": [
            "Number of candies are: 177\n"
          ]
        }
      ]
    }
  ]
}